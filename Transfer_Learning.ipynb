{
  "nbformat": 4,
  "nbformat_minor": 0,
  "metadata": {
    "colab": {
      "name": "Transfer Learning.ipynb",
      "provenance": [],
      "authorship_tag": "ABX9TyONEnclneaE0p5T0V6f0VW1",
      "include_colab_link": true
    },
    "kernelspec": {
      "name": "python3",
      "display_name": "Python 3"
    }
  },
  "cells": [
    {
      "cell_type": "markdown",
      "metadata": {
        "id": "view-in-github",
        "colab_type": "text"
      },
      "source": [
        "<a href=\"https://colab.research.google.com/github/Masoud-Ghasemian/PyTorch_Basics/blob/master/Transfer_Learning.ipynb\" target=\"_parent\"><img src=\"https://colab.research.google.com/assets/colab-badge.svg\" alt=\"Open In Colab\"/></a>"
      ]
    },
    {
      "cell_type": "code",
      "metadata": {
        "id": "4C8V1yMamrRv",
        "colab_type": "code",
        "colab": {}
      },
      "source": [
        "import torch\n",
        "from torchvision import models"
      ],
      "execution_count": 0,
      "outputs": []
    },
    {
      "cell_type": "code",
      "metadata": {
        "id": "d1nhobEpwkqE",
        "colab_type": "code",
        "outputId": "ea35612e-e356-432c-c4f2-db01f401c5f0",
        "colab": {
          "base_uri": "https://localhost:8080/",
          "height": 102
        }
      },
      "source": [
        "! git clone  https://github.com/jaddoescad/ants_and_bees.git"
      ],
      "execution_count": 0,
      "outputs": [
        {
          "output_type": "stream",
          "text": [
            "Cloning into 'ants_and_bees'...\n",
            "remote: Enumerating objects: 408, done.\u001b[K\n",
            "remote: Total 408 (delta 0), reused 0 (delta 0), pack-reused 408\u001b[K\n",
            "Receiving objects: 100% (408/408), 45.03 MiB | 43.17 MiB/s, done.\n",
            "Resolving deltas: 100% (2/2), done.\n"
          ],
          "name": "stdout"
        }
      ]
    },
    {
      "cell_type": "code",
      "metadata": {
        "id": "u8EJF6EWw69z",
        "colab_type": "code",
        "outputId": "6db5e7b4-9cbe-4de2-dce2-8f1211f18341",
        "colab": {
          "base_uri": "https://localhost:8080/",
          "height": 34
        }
      },
      "source": [
        "!ls"
      ],
      "execution_count": 0,
      "outputs": [
        {
          "output_type": "stream",
          "text": [
            "ants_and_bees  sample_data\n"
          ],
          "name": "stdout"
        }
      ]
    },
    {
      "cell_type": "code",
      "metadata": {
        "id": "mlH_qh3Bw-Ij",
        "colab_type": "code",
        "outputId": "9e3796a6-c849-418a-c652-ad279829c81a",
        "colab": {
          "base_uri": "https://localhost:8080/",
          "height": 34
        }
      },
      "source": [
        "!ls ants_and_bees"
      ],
      "execution_count": 0,
      "outputs": [
        {
          "output_type": "stream",
          "text": [
            "train  val\n"
          ],
          "name": "stdout"
        }
      ]
    },
    {
      "cell_type": "code",
      "metadata": {
        "id": "Ocd_L5wCxDEj",
        "colab_type": "code",
        "outputId": "600079f3-4526-4c8a-ceb1-04ce0fc4c6ee",
        "colab": {
          "base_uri": "https://localhost:8080/",
          "height": 34
        }
      },
      "source": [
        "!ls ants_and_bees/train"
      ],
      "execution_count": 0,
      "outputs": [
        {
          "output_type": "stream",
          "text": [
            "ants  bees\n"
          ],
          "name": "stdout"
        }
      ]
    },
    {
      "cell_type": "code",
      "metadata": {
        "id": "vgiPkrj8xH0y",
        "colab_type": "code",
        "outputId": "7b61cb05-bf90-49f4-e577-6411599e9070",
        "colab": {
          "base_uri": "https://localhost:8080/",
          "height": 1000
        }
      },
      "source": [
        "!ls ants_and_bees/train/ants"
      ],
      "execution_count": 0,
      "outputs": [
        {
          "output_type": "stream",
          "text": [
            " 0013035.jpg\t\t     408393566_b5b694119b.jpg\n",
            " 1030023514_aad5c608f9.jpg   424119020_6d57481dab.jpg\n",
            " 1095476100_3906d8afde.jpg   424873399_47658a91fb.jpg\n",
            " 1099452230_d1949d3250.jpg   450057712_771b3bfc91.jpg\n",
            " 116570827_e9c126745d.jpg    45472593_bfd624f8dc.jpg\n",
            " 1225872729_6f0856588f.jpg   459694881_ac657d3187.jpg\n",
            " 1262877379_64fcada201.jpg   460372577_f2f6a8c9fc.jpg\n",
            " 1269756697_0bce92cdab.jpg   460874319_0a45ab4d05.jpg\n",
            " 1286984635_5119e80de1.jpg   466430434_4000737de9.jpg\n",
            " 132478121_2a430adea2.jpg    470127037_513711fd21.jpg\n",
            " 1360291657_dc248c5eea.jpg   474806473_ca6caab245.jpg\n",
            " 1368913450_e146e2fb6d.jpg   475961153_b8c13fd405.jpg\n",
            " 1473187633_63ccaacea6.jpg   484293231_e53cfc0c89.jpg\n",
            " 148715752_302c84f5a4.jpg    49375974_e28ba6f17e.jpg\n",
            " 1489674356_09d48dde0a.jpg   506249802_207cd979b4.jpg\n",
            " 149244013_c529578289.jpg    506249836_717b73f540.jpg\n",
            " 150801003_3390b73135.jpg    512164029_c0a66b8498.jpg\n",
            " 150801171_cd86f17ed8.jpg    512863248_43c8ce579b.jpg\n",
            " 154124431_65460430f2.jpg    518773929_734dbc5ff4.jpg\n",
            " 162603798_40b51f1654.jpg    522163566_fec115ca66.jpg\n",
            " 1660097129_384bf54490.jpg   522415432_2218f34bf8.jpg\n",
            " 167890289_dd5ba923f3.jpg    531979952_bde12b3bc0.jpg\n",
            " 1693954099_46d4c20605.jpg   533848102_70a85ad6dd.jpg\n",
            " 175998972.jpg\t\t     535522953_308353a07c.jpg\n",
            " 178538489_bec7649292.jpg    540889389_48bb588b21.jpg\n",
            " 1804095607_0341701e1c.jpg   541630764_dbd285d63c.jpg\n",
            " 1808777855_2a895621d7.jpg   543417860_b14237f569.jpg\n",
            " 188552436_605cc9b36b.jpg    560966032_988f4d7bc4.jpg\n",
            " 1917341202_d00a7f9af5.jpg   5650366_e22b7e1065.jpg\n",
            " 1924473702_daa9aacdbe.jpg   6240329_72c01e663e.jpg\n",
            " 196057951_63bf063b92.jpg    6240338_93729615ec.jpg\n",
            " 196757565_326437f5fe.jpg    649026570_e58656104b.jpg\n",
            " 201558278_fe4caecc76.jpg    662541407_ff8db781e7.jpg\n",
            " 201790779_527f4c0168.jpg    67270775_e9fdf77e9d.jpg\n",
            " 2019439677_2db655d361.jpg   6743948_2b8c096dda.jpg\n",
            " 207947948_3ab29d7207.jpg    684133190_35b62c0c1d.jpg\n",
            " 20935278_9190345f6b.jpg     69639610_95e0de17aa.jpg\n",
            " 224655713_3956f7d39a.jpg    707895295_009cf23188.jpg\n",
            " 2265824718_2c96f485da.jpg   7759525_1363d24e88.jpg\n",
            " 2265825502_fff99cfd2d.jpg   795000156_a9900a4a71.jpg\n",
            " 226951206_d6bf946504.jpg    822537660_caf4ba5514.jpg\n",
            " 2278278459_6b99605e50.jpg   82852639_52b7f7f5e3.jpg\n",
            " 2288450226_a6e96e8fdf.jpg   841049277_b28e58ad05.jpg\n",
            " 2288481644_83ff7e4572.jpg   886401651_f878e888cd.jpg\n",
            " 2292213964_ca51ce4bef.jpg   892108839_f1aad4ca46.jpg\n",
            " 24335309_c5ea483bb8.jpg     938946700_ca1c669085.jpg\n",
            " 245647475_9523dfd13e.jpg    957233405_25c1d1187b.jpg\n",
            " 255434217_1b2b3fe0a4.jpg    9715481_b3cb4114ff.jpg\n",
            " 258217966_d9d90d18d3.jpg    998118368_6ac1d91f81.jpg\n",
            " 275429470_b2d7d9290b.jpg    Ant_1.jpg\n",
            " 28847243_e79fe052cd.jpg    'ant photos.jpg'\n",
            " 318052216_84dff3f98a.jpg    army-ants-red-picture.jpg\n",
            " 334167043_cbd1adaeb9.jpg    formica.jpeg\n",
            " 339670531_94b75ae47a.jpg    hormiga_co_por.jpg\n",
            " 342438950_a3da61deab.jpg    imageNotFound.gif\n",
            " 36439863_0bec9f554f.jpg     kurokusa.jpg\n",
            " 374435068_7eee412ec4.jpg    MehdiabadiAnt2_600.jpg\n",
            " 382971067_0bfd33afe0.jpg    Nepenthes_rafflesiana_ant.jpg\n",
            " 384191229_5779cf591b.jpg    swiss-army-ant.jpg\n",
            " 386190770_672743c9a7.jpg    termite-vs-ant.jpg\n",
            " 392382602_1b7bed32fa.jpg    trap-jaw-ant-insect-bg.jpg\n",
            " 403746349_71384f5b58.jpg    VietnameseAntMimicSpider.jpg\n"
          ],
          "name": "stdout"
        }
      ]
    },
    {
      "cell_type": "code",
      "metadata": {
        "id": "MKYvM5i8xK1j",
        "colab_type": "code",
        "colab": {}
      },
      "source": [
        ""
      ],
      "execution_count": 0,
      "outputs": []
    }
  ]
}